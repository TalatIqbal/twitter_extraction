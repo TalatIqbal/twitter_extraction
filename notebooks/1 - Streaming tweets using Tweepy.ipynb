{
 "cells": [
  {
   "cell_type": "code",
   "execution_count": 5,
   "metadata": {},
   "outputs": [],
   "source": [
    "import tweepy\n",
    "from tweepy import Stream\n",
    "from tweepy import OAuthHandler\n",
    "from tweepy.streaming import StreamListener\n",
    "\n",
    "import json\n",
    "import pandas as pd\n",
    "import csv\n",
    "import re #regular expression\n",
    "from textblob import TextBlob\n",
    "import string\n",
    "import preprocessor as pre\n",
    "import requests\n",
    "import datetime\n",
    "import numpy as np\n",
    "import math\n",
    "import json\n",
    "import time"
   ]
  },
  {
   "cell_type": "code",
   "execution_count": 6,
   "metadata": {},
   "outputs": [],
   "source": [
    "oauth_file = '../auth/oauth.txt'\n",
    "keys = []\n",
    "line = 'a'\n",
    "with open(oauth_file) as fp:\n",
    "    while line:\n",
    "        line = fp.readline().strip()\n",
    "        keys.append(line)\n",
    "\n",
    "#Twitter credentials for the app\n",
    "consumer_key = keys[2]\n",
    "consumer_secret = keys[3]\n",
    "access_key = keys[0]\n",
    "access_secret = keys[1]"
   ]
  },
  {
   "cell_type": "code",
   "execution_count": 7,
   "metadata": {},
   "outputs": [],
   "source": [
    "# Credentials\n",
    "#pass twitter credentials to tweepy\n",
    "auth = tweepy.OAuthHandler(consumer_key, consumer_secret)\n",
    "auth.set_access_token(access_key, access_secret)\n",
    "api = tweepy.API(auth, wait_on_rate_limit=True, wait_on_rate_limit_notify=True)"
   ]
  },
  {
   "cell_type": "code",
   "execution_count": 28,
   "metadata": {},
   "outputs": [],
   "source": [
    "# StreamListener class inherits from tweepy.StreamListener and overrides on_status/on_error methods.\n",
    "class StreamListener(tweepy.StreamListener):\n",
    "    def on_status(self, status):\n",
    "        \n",
    "        print(status.id_str)\n",
    "        \n",
    "        # class code adapted from https://www.storybench.org/how-to-collect-tweets-from-the-twitter-streaming-api-using-python/\n",
    "        \n",
    "        '''\n",
    "        # if \"retweeted_status\" attribute exists, flag this tweet as a retweet.\n",
    "        is_retweet = hasattr(status, \"retweeted_status\")\n",
    "\n",
    "        # check if text has been truncated\n",
    "        if hasattr(status,\"extended_tweet\"):\n",
    "            text = status.extended_tweet[\"full_text\"]\n",
    "        else:\n",
    "            text = status.text\n",
    "\n",
    "        \n",
    "        # check if this is a quote tweet.\n",
    "        is_quote = hasattr(status, \"quoted_status\")\n",
    "        quoted_text = \"\"\n",
    "        if is_quote:\n",
    "            # check if quoted tweet's text has been truncated before recording it\n",
    "            if hasattr(status.quoted_status,\"extended_tweet\"):\n",
    "                quoted_text = status.quoted_status.extended_tweet[\"full_text\"]\n",
    "            else:\n",
    "                quoted_text = status.quoted_status.text\n",
    "\n",
    "        # remove characters that might cause problems with csv encoding\n",
    "        remove_characters = [\",\",\"\\n\"]\n",
    "        for c in remove_characters:\n",
    "            text.replace(c,\" \")\n",
    "            quoted_text.replace(c, \" \")\n",
    "        '''\n",
    "            \n",
    "        OP_DIR = '../data/stream/'\n",
    "        op_file = OP_DIR + 'tweets_' + str(status.id_str) + '.stream'\n",
    "\n",
    "        with open(op_file, 'w', encoding='utf-8') as fp:\n",
    "            result = json.dumps(status._json)\n",
    "            fp.write(result + '\\n')            \n",
    "\n",
    "    def on_error(self, status_code):\n",
    "        print(\"Encountered streaming error (\", status_code, \")\")\n",
    "        sys.exit()"
   ]
  },
  {
   "cell_type": "code",
   "execution_count": null,
   "metadata": {},
   "outputs": [],
   "source": [
    "# initialize stream\n",
    "streamListener = StreamListener()\n",
    "stream = tweepy.Stream(auth=api.auth, listener=streamListener,tweet_mode='extended')\n",
    "with open(\"../data/out.csv\", \"w\", encoding='utf-8') as f:\n",
    "    f.write(\"date,user,is_retweet,is_quote,text,quoted_text\\n\")\n",
    "tags = ['corona', 'covid', 'virus', 'flu']\n",
    "stream.filter(track=tags, languages=['en'])"
   ]
  },
  {
   "cell_type": "code",
   "execution_count": null,
   "metadata": {},
   "outputs": [],
   "source": []
  }
 ],
 "metadata": {
  "kernelspec": {
   "display_name": "twitter",
   "language": "python",
   "name": "twitter"
  },
  "language_info": {
   "codemirror_mode": {
    "name": "ipython",
    "version": 3
   },
   "file_extension": ".py",
   "mimetype": "text/x-python",
   "name": "python",
   "nbconvert_exporter": "python",
   "pygments_lexer": "ipython3",
   "version": "3.7.6"
  }
 },
 "nbformat": 4,
 "nbformat_minor": 2
}
